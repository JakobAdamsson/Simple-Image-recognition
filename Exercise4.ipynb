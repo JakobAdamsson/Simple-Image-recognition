{
 "cells": [
  {
   "cell_type": "code",
   "execution_count": 1,
   "id": "15c12e51",
   "metadata": {},
   "outputs": [],
   "source": [
    "import numpy as np\n",
    "import pandas as pd\n",
    "import os\n",
    "import PIL\n",
    "import matplotlib\n",
    "import glob\n",
    "from scipy.spatial import distance\n",
    "import plotly.express as px\n",
    "import plotly.graph_objects as go"
   ]
  },
  {
   "cell_type": "code",
   "execution_count": 9,
   "id": "d364c9d5",
   "metadata": {},
   "outputs": [],
   "source": [
    "DIR = r\"People\"\n",
    "PEOPLE = [\"Andreas\", \"Marie\", \"Mikael\", \"Stefan\", \"Ulf\"]\n",
    "DIR2 = r\"Test\"\n",
    "\n",
    "def getPeople(people):\n",
    "    peopleDir = {}\n",
    "    for i in people:\n",
    "        uniquePerson = DIR + \"/\" + i\n",
    "        peopleDir[i] = uniquePerson\n",
    "    return peopleDir\n",
    "\n",
    "def getTestImages(directory):\n",
    "    imageDir = {\"Picture\": [], \"Std\": [], \"Mean\": []}\n",
    "    for i in os.listdir(directory):\n",
    "        file = os.path.join(DIR2, i)\n",
    "        if os.path.isfile(file):\n",
    "            tempPic = PIL.Image.open(file)\n",
    "            toArr = np.array(tempPic)\n",
    "            imageDir[\"Picture\"].append(i)\n",
    "            imageDir[\"Std\"].append(toArr.std())\n",
    "            imageDir[\"Mean\"].append(toArr.mean())\n",
    "    imagedf = pd.DataFrame(data=imageDir)\n",
    "    return imagedf\n",
    "\n",
    "    \n",
    "\n",
    "def getEachImageData(data):\n",
    "    people = getPeople(data)\n",
    "    temp = {\"Name\": [], \"PictureNumber\": [], \"Std\": [], \"Mean\": []}\n",
    "    for index, i in enumerate(people.values()):\n",
    "        for pic in os.listdir(i):\n",
    "            file = os.path.join(i, pic)\n",
    "            if os.path.isfile(file):\n",
    "                tempPic = PIL.Image.open(file)\n",
    "                toArr = np.array(tempPic)\n",
    "                temp[\"Name\"].append(PEOPLE[index])\n",
    "                t = file.split(\"/\")[2]\n",
    "                temp[\"PictureNumber\"].append(t)\n",
    "                temp[\"Std\"].append(toArr.std())\n",
    "                temp[\"Mean\"].append(toArr.mean())\n",
    "    df = pd.DataFrame(data=temp)\n",
    "    return df\n",
    "\n",
    "def getAllImageData():\n",
    "    q1 = getEachImageData(PEOPLE).groupby(\"Name\", as_index=False).mean()\n",
    "    return q1\n",
    "\n",
    "def getAllTestImageData():\n",
    "    temp = {\"Name\": [], \"PictureNumber\": [], \"Std\": [], \"Mean\": []}\n",
    "    for index, i in enumerate(people.values()):\n",
    "        for pic in os.listdir(i):\n",
    "            file = os.path.join(i, pic)\n",
    "            if os.path.isfile(file):\n",
    "                tempPic = PIL.Image.open(file)\n",
    "                toArr = np.array(tempPic)\n",
    "                temp[\"Name\"].append(PEOPLE[index])\n",
    "                t = file.split(\"/\")[2]\n",
    "                temp[\"PictureNumber\"].append(t)\n",
    "                temp[\"Std\"].append(toArr.std())\n",
    "                temp[\"Mean\"].append(toArr.mean())\n",
    "    df = pd.DataFrame(data=temp)\n",
    "    return df\n",
    "    \n",
    "def getCorrectPerson(df, idx):\n",
    "    tempdf = df.loc[df[\"testPicture\"] == str(idx)+\".png\"]\n",
    "    max_idx = tempdf[\"euclidianDistance\"].idxmin()\n",
    "    tempdf[\"Correctly identified?\"] = \"No\"\n",
    "    tempdf.loc[max_idx, \"Correctly identified?\"] = \"Yes\"\n",
    "    tempdf.index.name = f\"For {idx}.png\"\n",
    "    return tempdf\n",
    "    \n"
   ]
  },
  {
   "cell_type": "markdown",
   "id": "3546dc94",
   "metadata": {},
   "source": [
    "# Step 1"
   ]
  },
  {
   "cell_type": "code",
   "execution_count": 3,
   "id": "5584503b",
   "metadata": {},
   "outputs": [
    {
     "data": {
      "text/html": [
       "<div>\n",
       "<style scoped>\n",
       "    .dataframe tbody tr th:only-of-type {\n",
       "        vertical-align: middle;\n",
       "    }\n",
       "\n",
       "    .dataframe tbody tr th {\n",
       "        vertical-align: top;\n",
       "    }\n",
       "\n",
       "    .dataframe thead th {\n",
       "        text-align: right;\n",
       "    }\n",
       "</style>\n",
       "<table border=\"1\" class=\"dataframe\">\n",
       "  <thead>\n",
       "    <tr style=\"text-align: right;\">\n",
       "      <th></th>\n",
       "      <th>Name</th>\n",
       "      <th>Std</th>\n",
       "      <th>Mean</th>\n",
       "    </tr>\n",
       "  </thead>\n",
       "  <tbody>\n",
       "    <tr>\n",
       "      <th>0</th>\n",
       "      <td>Andreas</td>\n",
       "      <td>43.408818</td>\n",
       "      <td>103.914592</td>\n",
       "    </tr>\n",
       "    <tr>\n",
       "      <th>1</th>\n",
       "      <td>Marie</td>\n",
       "      <td>69.703191</td>\n",
       "      <td>170.145299</td>\n",
       "    </tr>\n",
       "    <tr>\n",
       "      <th>2</th>\n",
       "      <td>Mikael</td>\n",
       "      <td>45.967704</td>\n",
       "      <td>106.672602</td>\n",
       "    </tr>\n",
       "    <tr>\n",
       "      <th>3</th>\n",
       "      <td>Stefan</td>\n",
       "      <td>50.270371</td>\n",
       "      <td>174.517589</td>\n",
       "    </tr>\n",
       "    <tr>\n",
       "      <th>4</th>\n",
       "      <td>Ulf</td>\n",
       "      <td>58.296878</td>\n",
       "      <td>163.029440</td>\n",
       "    </tr>\n",
       "  </tbody>\n",
       "</table>\n",
       "</div>"
      ],
      "text/plain": [
       "      Name        Std        Mean\n",
       "0  Andreas  43.408818  103.914592\n",
       "1    Marie  69.703191  170.145299\n",
       "2   Mikael  45.967704  106.672602\n",
       "3   Stefan  50.270371  174.517589\n",
       "4      Ulf  58.296878  163.029440"
      ]
     },
     "execution_count": 3,
     "metadata": {},
     "output_type": "execute_result"
    }
   ],
   "source": [
    "df_1 = getAllImageData()\n",
    "df_1"
   ]
  },
  {
   "cell_type": "code",
   "execution_count": 4,
   "id": "98f4ee0e",
   "metadata": {},
   "outputs": [
    {
     "data": {
      "text/html": [
       "<div>\n",
       "<style scoped>\n",
       "    .dataframe tbody tr th:only-of-type {\n",
       "        vertical-align: middle;\n",
       "    }\n",
       "\n",
       "    .dataframe tbody tr th {\n",
       "        vertical-align: top;\n",
       "    }\n",
       "\n",
       "    .dataframe thead th {\n",
       "        text-align: right;\n",
       "    }\n",
       "</style>\n",
       "<table border=\"1\" class=\"dataframe\">\n",
       "  <thead>\n",
       "    <tr style=\"text-align: right;\">\n",
       "      <th></th>\n",
       "      <th>Name</th>\n",
       "      <th>PictureNumber</th>\n",
       "      <th>Std</th>\n",
       "      <th>Mean</th>\n",
       "    </tr>\n",
       "  </thead>\n",
       "  <tbody>\n",
       "    <tr>\n",
       "      <th>0</th>\n",
       "      <td>Andreas</td>\n",
       "      <td>10.png</td>\n",
       "      <td>45.214348</td>\n",
       "      <td>108.840022</td>\n",
       "    </tr>\n",
       "    <tr>\n",
       "      <th>1</th>\n",
       "      <td>Andreas</td>\n",
       "      <td>2.png</td>\n",
       "      <td>38.768097</td>\n",
       "      <td>99.973802</td>\n",
       "    </tr>\n",
       "    <tr>\n",
       "      <th>2</th>\n",
       "      <td>Andreas</td>\n",
       "      <td>3.png</td>\n",
       "      <td>44.076565</td>\n",
       "      <td>106.601449</td>\n",
       "    </tr>\n",
       "    <tr>\n",
       "      <th>3</th>\n",
       "      <td>Andreas</td>\n",
       "      <td>4.png</td>\n",
       "      <td>51.760019</td>\n",
       "      <td>110.702899</td>\n",
       "    </tr>\n",
       "    <tr>\n",
       "      <th>4</th>\n",
       "      <td>Andreas</td>\n",
       "      <td>5.png</td>\n",
       "      <td>41.974647</td>\n",
       "      <td>92.049610</td>\n",
       "    </tr>\n",
       "    <tr>\n",
       "      <th>5</th>\n",
       "      <td>Andreas</td>\n",
       "      <td>6.png</td>\n",
       "      <td>42.609839</td>\n",
       "      <td>99.117057</td>\n",
       "    </tr>\n",
       "    <tr>\n",
       "      <th>6</th>\n",
       "      <td>Andreas</td>\n",
       "      <td>7.png</td>\n",
       "      <td>43.146647</td>\n",
       "      <td>97.270346</td>\n",
       "    </tr>\n",
       "    <tr>\n",
       "      <th>7</th>\n",
       "      <td>Andreas</td>\n",
       "      <td>8.png</td>\n",
       "      <td>39.721743</td>\n",
       "      <td>110.117057</td>\n",
       "    </tr>\n",
       "    <tr>\n",
       "      <th>8</th>\n",
       "      <td>Andreas</td>\n",
       "      <td>9.png</td>\n",
       "      <td>43.407459</td>\n",
       "      <td>110.559086</td>\n",
       "    </tr>\n",
       "    <tr>\n",
       "      <th>9</th>\n",
       "      <td>Marie</td>\n",
       "      <td>10.png</td>\n",
       "      <td>67.926261</td>\n",
       "      <td>180.141026</td>\n",
       "    </tr>\n",
       "    <tr>\n",
       "      <th>10</th>\n",
       "      <td>Marie</td>\n",
       "      <td>2.png</td>\n",
       "      <td>69.650396</td>\n",
       "      <td>160.027778</td>\n",
       "    </tr>\n",
       "    <tr>\n",
       "      <th>11</th>\n",
       "      <td>Marie</td>\n",
       "      <td>3.png</td>\n",
       "      <td>74.459920</td>\n",
       "      <td>155.356838</td>\n",
       "    </tr>\n",
       "    <tr>\n",
       "      <th>12</th>\n",
       "      <td>Marie</td>\n",
       "      <td>4.png</td>\n",
       "      <td>66.148817</td>\n",
       "      <td>179.403846</td>\n",
       "    </tr>\n",
       "    <tr>\n",
       "      <th>13</th>\n",
       "      <td>Marie</td>\n",
       "      <td>5.png</td>\n",
       "      <td>68.922025</td>\n",
       "      <td>177.618590</td>\n",
       "    </tr>\n",
       "    <tr>\n",
       "      <th>14</th>\n",
       "      <td>Marie</td>\n",
       "      <td>6.png</td>\n",
       "      <td>74.249365</td>\n",
       "      <td>159.307158</td>\n",
       "    </tr>\n",
       "    <tr>\n",
       "      <th>15</th>\n",
       "      <td>Marie</td>\n",
       "      <td>7.png</td>\n",
       "      <td>68.133819</td>\n",
       "      <td>178.237179</td>\n",
       "    </tr>\n",
       "    <tr>\n",
       "      <th>16</th>\n",
       "      <td>Marie</td>\n",
       "      <td>8.png</td>\n",
       "      <td>69.719768</td>\n",
       "      <td>177.077457</td>\n",
       "    </tr>\n",
       "    <tr>\n",
       "      <th>17</th>\n",
       "      <td>Marie</td>\n",
       "      <td>9.png</td>\n",
       "      <td>68.118347</td>\n",
       "      <td>164.137821</td>\n",
       "    </tr>\n",
       "    <tr>\n",
       "      <th>18</th>\n",
       "      <td>Mikael</td>\n",
       "      <td>10.png</td>\n",
       "      <td>46.434163</td>\n",
       "      <td>109.850427</td>\n",
       "    </tr>\n",
       "    <tr>\n",
       "      <th>19</th>\n",
       "      <td>Mikael</td>\n",
       "      <td>2.png</td>\n",
       "      <td>47.794581</td>\n",
       "      <td>104.762821</td>\n",
       "    </tr>\n",
       "    <tr>\n",
       "      <th>20</th>\n",
       "      <td>Mikael</td>\n",
       "      <td>3.png</td>\n",
       "      <td>43.463861</td>\n",
       "      <td>113.148504</td>\n",
       "    </tr>\n",
       "    <tr>\n",
       "      <th>21</th>\n",
       "      <td>Mikael</td>\n",
       "      <td>4.png</td>\n",
       "      <td>43.806554</td>\n",
       "      <td>114.842415</td>\n",
       "    </tr>\n",
       "    <tr>\n",
       "      <th>22</th>\n",
       "      <td>Mikael</td>\n",
       "      <td>5.png</td>\n",
       "      <td>48.061303</td>\n",
       "      <td>100.565705</td>\n",
       "    </tr>\n",
       "    <tr>\n",
       "      <th>23</th>\n",
       "      <td>Mikael</td>\n",
       "      <td>6.png</td>\n",
       "      <td>46.808010</td>\n",
       "      <td>101.399038</td>\n",
       "    </tr>\n",
       "    <tr>\n",
       "      <th>24</th>\n",
       "      <td>Mikael</td>\n",
       "      <td>7.png</td>\n",
       "      <td>45.148040</td>\n",
       "      <td>109.787927</td>\n",
       "    </tr>\n",
       "    <tr>\n",
       "      <th>25</th>\n",
       "      <td>Mikael</td>\n",
       "      <td>8.png</td>\n",
       "      <td>43.831673</td>\n",
       "      <td>102.766026</td>\n",
       "    </tr>\n",
       "    <tr>\n",
       "      <th>26</th>\n",
       "      <td>Mikael</td>\n",
       "      <td>9.png</td>\n",
       "      <td>48.361149</td>\n",
       "      <td>102.930556</td>\n",
       "    </tr>\n",
       "    <tr>\n",
       "      <th>27</th>\n",
       "      <td>Stefan</td>\n",
       "      <td>10.png</td>\n",
       "      <td>47.401286</td>\n",
       "      <td>169.293757</td>\n",
       "    </tr>\n",
       "    <tr>\n",
       "      <th>28</th>\n",
       "      <td>Stefan</td>\n",
       "      <td>2.png</td>\n",
       "      <td>52.908204</td>\n",
       "      <td>180.207358</td>\n",
       "    </tr>\n",
       "    <tr>\n",
       "      <th>29</th>\n",
       "      <td>Stefan</td>\n",
       "      <td>3.png</td>\n",
       "      <td>51.541404</td>\n",
       "      <td>178.206800</td>\n",
       "    </tr>\n",
       "    <tr>\n",
       "      <th>30</th>\n",
       "      <td>Stefan</td>\n",
       "      <td>4.png</td>\n",
       "      <td>48.157044</td>\n",
       "      <td>172.201784</td>\n",
       "    </tr>\n",
       "    <tr>\n",
       "      <th>31</th>\n",
       "      <td>Stefan</td>\n",
       "      <td>5.png</td>\n",
       "      <td>48.067581</td>\n",
       "      <td>174.337793</td>\n",
       "    </tr>\n",
       "    <tr>\n",
       "      <th>32</th>\n",
       "      <td>Stefan</td>\n",
       "      <td>6.png</td>\n",
       "      <td>48.780070</td>\n",
       "      <td>165.505017</td>\n",
       "    </tr>\n",
       "    <tr>\n",
       "      <th>33</th>\n",
       "      <td>Stefan</td>\n",
       "      <td>7.png</td>\n",
       "      <td>51.918983</td>\n",
       "      <td>181.033445</td>\n",
       "    </tr>\n",
       "    <tr>\n",
       "      <th>34</th>\n",
       "      <td>Stefan</td>\n",
       "      <td>8.png</td>\n",
       "      <td>53.021567</td>\n",
       "      <td>177.745819</td>\n",
       "    </tr>\n",
       "    <tr>\n",
       "      <th>35</th>\n",
       "      <td>Stefan</td>\n",
       "      <td>9.png</td>\n",
       "      <td>50.637201</td>\n",
       "      <td>172.126533</td>\n",
       "    </tr>\n",
       "    <tr>\n",
       "      <th>36</th>\n",
       "      <td>Ulf</td>\n",
       "      <td>10.png</td>\n",
       "      <td>59.714647</td>\n",
       "      <td>155.354416</td>\n",
       "    </tr>\n",
       "    <tr>\n",
       "      <th>37</th>\n",
       "      <td>Ulf</td>\n",
       "      <td>2.png</td>\n",
       "      <td>60.888169</td>\n",
       "      <td>160.495726</td>\n",
       "    </tr>\n",
       "    <tr>\n",
       "      <th>38</th>\n",
       "      <td>Ulf</td>\n",
       "      <td>3.png</td>\n",
       "      <td>54.007730</td>\n",
       "      <td>163.471225</td>\n",
       "    </tr>\n",
       "    <tr>\n",
       "      <th>39</th>\n",
       "      <td>Ulf</td>\n",
       "      <td>4.png</td>\n",
       "      <td>60.101892</td>\n",
       "      <td>167.107692</td>\n",
       "    </tr>\n",
       "    <tr>\n",
       "      <th>40</th>\n",
       "      <td>Ulf</td>\n",
       "      <td>5.png</td>\n",
       "      <td>56.920811</td>\n",
       "      <td>163.497436</td>\n",
       "    </tr>\n",
       "    <tr>\n",
       "      <th>41</th>\n",
       "      <td>Ulf</td>\n",
       "      <td>6.png</td>\n",
       "      <td>57.237252</td>\n",
       "      <td>161.567521</td>\n",
       "    </tr>\n",
       "    <tr>\n",
       "      <th>42</th>\n",
       "      <td>Ulf</td>\n",
       "      <td>7.png</td>\n",
       "      <td>61.348829</td>\n",
       "      <td>161.462108</td>\n",
       "    </tr>\n",
       "    <tr>\n",
       "      <th>43</th>\n",
       "      <td>Ulf</td>\n",
       "      <td>8.png</td>\n",
       "      <td>56.706945</td>\n",
       "      <td>169.056980</td>\n",
       "    </tr>\n",
       "    <tr>\n",
       "      <th>44</th>\n",
       "      <td>Ulf</td>\n",
       "      <td>9.png</td>\n",
       "      <td>57.745629</td>\n",
       "      <td>165.251852</td>\n",
       "    </tr>\n",
       "  </tbody>\n",
       "</table>\n",
       "</div>"
      ],
      "text/plain": [
       "       Name PictureNumber        Std        Mean\n",
       "0   Andreas        10.png  45.214348  108.840022\n",
       "1   Andreas         2.png  38.768097   99.973802\n",
       "2   Andreas         3.png  44.076565  106.601449\n",
       "3   Andreas         4.png  51.760019  110.702899\n",
       "4   Andreas         5.png  41.974647   92.049610\n",
       "5   Andreas         6.png  42.609839   99.117057\n",
       "6   Andreas         7.png  43.146647   97.270346\n",
       "7   Andreas         8.png  39.721743  110.117057\n",
       "8   Andreas         9.png  43.407459  110.559086\n",
       "9     Marie        10.png  67.926261  180.141026\n",
       "10    Marie         2.png  69.650396  160.027778\n",
       "11    Marie         3.png  74.459920  155.356838\n",
       "12    Marie         4.png  66.148817  179.403846\n",
       "13    Marie         5.png  68.922025  177.618590\n",
       "14    Marie         6.png  74.249365  159.307158\n",
       "15    Marie         7.png  68.133819  178.237179\n",
       "16    Marie         8.png  69.719768  177.077457\n",
       "17    Marie         9.png  68.118347  164.137821\n",
       "18   Mikael        10.png  46.434163  109.850427\n",
       "19   Mikael         2.png  47.794581  104.762821\n",
       "20   Mikael         3.png  43.463861  113.148504\n",
       "21   Mikael         4.png  43.806554  114.842415\n",
       "22   Mikael         5.png  48.061303  100.565705\n",
       "23   Mikael         6.png  46.808010  101.399038\n",
       "24   Mikael         7.png  45.148040  109.787927\n",
       "25   Mikael         8.png  43.831673  102.766026\n",
       "26   Mikael         9.png  48.361149  102.930556\n",
       "27   Stefan        10.png  47.401286  169.293757\n",
       "28   Stefan         2.png  52.908204  180.207358\n",
       "29   Stefan         3.png  51.541404  178.206800\n",
       "30   Stefan         4.png  48.157044  172.201784\n",
       "31   Stefan         5.png  48.067581  174.337793\n",
       "32   Stefan         6.png  48.780070  165.505017\n",
       "33   Stefan         7.png  51.918983  181.033445\n",
       "34   Stefan         8.png  53.021567  177.745819\n",
       "35   Stefan         9.png  50.637201  172.126533\n",
       "36      Ulf        10.png  59.714647  155.354416\n",
       "37      Ulf         2.png  60.888169  160.495726\n",
       "38      Ulf         3.png  54.007730  163.471225\n",
       "39      Ulf         4.png  60.101892  167.107692\n",
       "40      Ulf         5.png  56.920811  163.497436\n",
       "41      Ulf         6.png  57.237252  161.567521\n",
       "42      Ulf         7.png  61.348829  161.462108\n",
       "43      Ulf         8.png  56.706945  169.056980\n",
       "44      Ulf         9.png  57.745629  165.251852"
      ]
     },
     "execution_count": 4,
     "metadata": {},
     "output_type": "execute_result"
    }
   ],
   "source": [
    "df_2 = getEachImageData(PEOPLE)\n",
    "df_2"
   ]
  },
  {
   "cell_type": "markdown",
   "id": "b4b3cb7a",
   "metadata": {},
   "source": [
    "# Step 2"
   ]
  },
  {
   "cell_type": "code",
   "execution_count": 5,
   "id": "2e8e6999",
   "metadata": {},
   "outputs": [
    {
     "data": {
      "text/html": [
       "<div>\n",
       "<style scoped>\n",
       "    .dataframe tbody tr th:only-of-type {\n",
       "        vertical-align: middle;\n",
       "    }\n",
       "\n",
       "    .dataframe tbody tr th {\n",
       "        vertical-align: top;\n",
       "    }\n",
       "\n",
       "    .dataframe thead th {\n",
       "        text-align: right;\n",
       "    }\n",
       "</style>\n",
       "<table border=\"1\" class=\"dataframe\">\n",
       "  <thead>\n",
       "    <tr style=\"text-align: right;\">\n",
       "      <th></th>\n",
       "      <th>Picture</th>\n",
       "      <th>Std</th>\n",
       "      <th>Mean</th>\n",
       "    </tr>\n",
       "  </thead>\n",
       "  <tbody>\n",
       "    <tr>\n",
       "      <th>0</th>\n",
       "      <td>1.png</td>\n",
       "      <td>41.440951</td>\n",
       "      <td>97.820513</td>\n",
       "    </tr>\n",
       "    <tr>\n",
       "      <th>1</th>\n",
       "      <td>2.png</td>\n",
       "      <td>73.957421</td>\n",
       "      <td>153.836004</td>\n",
       "    </tr>\n",
       "    <tr>\n",
       "      <th>2</th>\n",
       "      <td>3.png</td>\n",
       "      <td>45.979199</td>\n",
       "      <td>104.131944</td>\n",
       "    </tr>\n",
       "    <tr>\n",
       "      <th>3</th>\n",
       "      <td>4.png</td>\n",
       "      <td>48.441330</td>\n",
       "      <td>169.921962</td>\n",
       "    </tr>\n",
       "    <tr>\n",
       "      <th>4</th>\n",
       "      <td>5.png</td>\n",
       "      <td>57.005226</td>\n",
       "      <td>165.491738</td>\n",
       "    </tr>\n",
       "  </tbody>\n",
       "</table>\n",
       "</div>"
      ],
      "text/plain": [
       "  Picture        Std        Mean\n",
       "0   1.png  41.440951   97.820513\n",
       "1   2.png  73.957421  153.836004\n",
       "2   3.png  45.979199  104.131944\n",
       "3   4.png  48.441330  169.921962\n",
       "4   5.png  57.005226  165.491738"
      ]
     },
     "execution_count": 5,
     "metadata": {},
     "output_type": "execute_result"
    }
   ],
   "source": [
    "test_images = getTestImages(DIR2)\n",
    "test_images"
   ]
  },
  {
   "cell_type": "markdown",
   "id": "0bf0a434",
   "metadata": {},
   "source": [
    "# Step 3"
   ]
  },
  {
   "cell_type": "code",
   "execution_count": 6,
   "id": "fa894011",
   "metadata": {},
   "outputs": [
    {
     "name": "stderr",
     "output_type": "stream",
     "text": [
      "/tmp/ipykernel_5353/1930267037.py:67: SettingWithCopyWarning: \n",
      "A value is trying to be set on a copy of a slice from a DataFrame.\n",
      "Try using .loc[row_indexer,col_indexer] = value instead\n",
      "\n",
      "See the caveats in the documentation: https://pandas.pydata.org/pandas-docs/stable/user_guide/indexing.html#returning-a-view-versus-a-copy\n",
      "  tempdf[\"Correctly identified?\"] = \"No\"\n",
      "/tmp/ipykernel_5353/1930267037.py:67: SettingWithCopyWarning: \n",
      "A value is trying to be set on a copy of a slice from a DataFrame.\n",
      "Try using .loc[row_indexer,col_indexer] = value instead\n",
      "\n",
      "See the caveats in the documentation: https://pandas.pydata.org/pandas-docs/stable/user_guide/indexing.html#returning-a-view-versus-a-copy\n",
      "  tempdf[\"Correctly identified?\"] = \"No\"\n",
      "/tmp/ipykernel_5353/1930267037.py:67: SettingWithCopyWarning: \n",
      "A value is trying to be set on a copy of a slice from a DataFrame.\n",
      "Try using .loc[row_indexer,col_indexer] = value instead\n",
      "\n",
      "See the caveats in the documentation: https://pandas.pydata.org/pandas-docs/stable/user_guide/indexing.html#returning-a-view-versus-a-copy\n",
      "  tempdf[\"Correctly identified?\"] = \"No\"\n",
      "/tmp/ipykernel_5353/1930267037.py:67: SettingWithCopyWarning: \n",
      "A value is trying to be set on a copy of a slice from a DataFrame.\n",
      "Try using .loc[row_indexer,col_indexer] = value instead\n",
      "\n",
      "See the caveats in the documentation: https://pandas.pydata.org/pandas-docs/stable/user_guide/indexing.html#returning-a-view-versus-a-copy\n",
      "  tempdf[\"Correctly identified?\"] = \"No\"\n",
      "/tmp/ipykernel_5353/1930267037.py:67: SettingWithCopyWarning: \n",
      "A value is trying to be set on a copy of a slice from a DataFrame.\n",
      "Try using .loc[row_indexer,col_indexer] = value instead\n",
      "\n",
      "See the caveats in the documentation: https://pandas.pydata.org/pandas-docs/stable/user_guide/indexing.html#returning-a-view-versus-a-copy\n",
      "  tempdf[\"Correctly identified?\"] = \"No\"\n"
     ]
    },
    {
     "data": {
      "text/html": [
       "<div>\n",
       "<style scoped>\n",
       "    .dataframe tbody tr th:only-of-type {\n",
       "        vertical-align: middle;\n",
       "    }\n",
       "\n",
       "    .dataframe tbody tr th {\n",
       "        vertical-align: top;\n",
       "    }\n",
       "\n",
       "    .dataframe thead th {\n",
       "        text-align: right;\n",
       "    }\n",
       "</style>\n",
       "<table border=\"1\" class=\"dataframe\">\n",
       "  <thead>\n",
       "    <tr style=\"text-align: right;\">\n",
       "      <th></th>\n",
       "      <th>name</th>\n",
       "      <th>testPicture</th>\n",
       "      <th>euclidianDistance</th>\n",
       "      <th>Correctly identified?</th>\n",
       "    </tr>\n",
       "    <tr>\n",
       "      <th>For 1.png</th>\n",
       "      <th></th>\n",
       "      <th></th>\n",
       "      <th></th>\n",
       "      <th></th>\n",
       "    </tr>\n",
       "  </thead>\n",
       "  <tbody>\n",
       "    <tr>\n",
       "      <th>0</th>\n",
       "      <td>Andreas</td>\n",
       "      <td>1.png</td>\n",
       "      <td>6.403929</td>\n",
       "      <td>Yes</td>\n",
       "    </tr>\n",
       "    <tr>\n",
       "      <th>5</th>\n",
       "      <td>Marie</td>\n",
       "      <td>1.png</td>\n",
       "      <td>77.650685</td>\n",
       "      <td>No</td>\n",
       "    </tr>\n",
       "    <tr>\n",
       "      <th>10</th>\n",
       "      <td>Mikael</td>\n",
       "      <td>1.png</td>\n",
       "      <td>9.942383</td>\n",
       "      <td>No</td>\n",
       "    </tr>\n",
       "    <tr>\n",
       "      <th>15</th>\n",
       "      <td>Stefan</td>\n",
       "      <td>1.png</td>\n",
       "      <td>77.203628</td>\n",
       "      <td>No</td>\n",
       "    </tr>\n",
       "    <tr>\n",
       "      <th>20</th>\n",
       "      <td>Ulf</td>\n",
       "      <td>1.png</td>\n",
       "      <td>67.352256</td>\n",
       "      <td>No</td>\n",
       "    </tr>\n",
       "  </tbody>\n",
       "</table>\n",
       "</div>"
      ],
      "text/plain": [
       "              name testPicture  euclidianDistance Correctly identified?\n",
       "For 1.png                                                              \n",
       "0          Andreas       1.png           6.403929                   Yes\n",
       "5            Marie       1.png          77.650685                    No\n",
       "10          Mikael       1.png           9.942383                    No\n",
       "15          Stefan       1.png          77.203628                    No\n",
       "20             Ulf       1.png          67.352256                    No"
      ]
     },
     "metadata": {},
     "output_type": "display_data"
    },
    {
     "data": {
      "text/html": [
       "<div>\n",
       "<style scoped>\n",
       "    .dataframe tbody tr th:only-of-type {\n",
       "        vertical-align: middle;\n",
       "    }\n",
       "\n",
       "    .dataframe tbody tr th {\n",
       "        vertical-align: top;\n",
       "    }\n",
       "\n",
       "    .dataframe thead th {\n",
       "        text-align: right;\n",
       "    }\n",
       "</style>\n",
       "<table border=\"1\" class=\"dataframe\">\n",
       "  <thead>\n",
       "    <tr style=\"text-align: right;\">\n",
       "      <th></th>\n",
       "      <th>name</th>\n",
       "      <th>testPicture</th>\n",
       "      <th>euclidianDistance</th>\n",
       "      <th>Correctly identified?</th>\n",
       "    </tr>\n",
       "    <tr>\n",
       "      <th>For 2.png</th>\n",
       "      <th></th>\n",
       "      <th></th>\n",
       "      <th></th>\n",
       "      <th></th>\n",
       "    </tr>\n",
       "  </thead>\n",
       "  <tbody>\n",
       "    <tr>\n",
       "      <th>1</th>\n",
       "      <td>Andreas</td>\n",
       "      <td>2.png</td>\n",
       "      <td>58.526614</td>\n",
       "      <td>No</td>\n",
       "    </tr>\n",
       "    <tr>\n",
       "      <th>6</th>\n",
       "      <td>Marie</td>\n",
       "      <td>2.png</td>\n",
       "      <td>16.855016</td>\n",
       "      <td>Yes</td>\n",
       "    </tr>\n",
       "    <tr>\n",
       "      <th>11</th>\n",
       "      <td>Mikael</td>\n",
       "      <td>2.png</td>\n",
       "      <td>54.843512</td>\n",
       "      <td>No</td>\n",
       "    </tr>\n",
       "    <tr>\n",
       "      <th>16</th>\n",
       "      <td>Stefan</td>\n",
       "      <td>2.png</td>\n",
       "      <td>31.445259</td>\n",
       "      <td>No</td>\n",
       "    </tr>\n",
       "    <tr>\n",
       "      <th>21</th>\n",
       "      <td>Ulf</td>\n",
       "      <td>2.png</td>\n",
       "      <td>18.159622</td>\n",
       "      <td>No</td>\n",
       "    </tr>\n",
       "  </tbody>\n",
       "</table>\n",
       "</div>"
      ],
      "text/plain": [
       "              name testPicture  euclidianDistance Correctly identified?\n",
       "For 2.png                                                              \n",
       "1          Andreas       2.png          58.526614                    No\n",
       "6            Marie       2.png          16.855016                   Yes\n",
       "11          Mikael       2.png          54.843512                    No\n",
       "16          Stefan       2.png          31.445259                    No\n",
       "21             Ulf       2.png          18.159622                    No"
      ]
     },
     "metadata": {},
     "output_type": "display_data"
    },
    {
     "data": {
      "text/html": [
       "<div>\n",
       "<style scoped>\n",
       "    .dataframe tbody tr th:only-of-type {\n",
       "        vertical-align: middle;\n",
       "    }\n",
       "\n",
       "    .dataframe tbody tr th {\n",
       "        vertical-align: top;\n",
       "    }\n",
       "\n",
       "    .dataframe thead th {\n",
       "        text-align: right;\n",
       "    }\n",
       "</style>\n",
       "<table border=\"1\" class=\"dataframe\">\n",
       "  <thead>\n",
       "    <tr style=\"text-align: right;\">\n",
       "      <th></th>\n",
       "      <th>name</th>\n",
       "      <th>testPicture</th>\n",
       "      <th>euclidianDistance</th>\n",
       "      <th>Correctly identified?</th>\n",
       "    </tr>\n",
       "    <tr>\n",
       "      <th>For 3.png</th>\n",
       "      <th></th>\n",
       "      <th></th>\n",
       "      <th></th>\n",
       "      <th></th>\n",
       "    </tr>\n",
       "  </thead>\n",
       "  <tbody>\n",
       "    <tr>\n",
       "      <th>2</th>\n",
       "      <td>Andreas</td>\n",
       "      <td>3.png</td>\n",
       "      <td>2.579554</td>\n",
       "      <td>No</td>\n",
       "    </tr>\n",
       "    <tr>\n",
       "      <th>7</th>\n",
       "      <td>Marie</td>\n",
       "      <td>3.png</td>\n",
       "      <td>70.146923</td>\n",
       "      <td>No</td>\n",
       "    </tr>\n",
       "    <tr>\n",
       "      <th>12</th>\n",
       "      <td>Mikael</td>\n",
       "      <td>3.png</td>\n",
       "      <td>2.540684</td>\n",
       "      <td>Yes</td>\n",
       "    </tr>\n",
       "    <tr>\n",
       "      <th>17</th>\n",
       "      <td>Stefan</td>\n",
       "      <td>3.png</td>\n",
       "      <td>70.516333</td>\n",
       "      <td>No</td>\n",
       "    </tr>\n",
       "    <tr>\n",
       "      <th>22</th>\n",
       "      <td>Ulf</td>\n",
       "      <td>3.png</td>\n",
       "      <td>60.171756</td>\n",
       "      <td>No</td>\n",
       "    </tr>\n",
       "  </tbody>\n",
       "</table>\n",
       "</div>"
      ],
      "text/plain": [
       "              name testPicture  euclidianDistance Correctly identified?\n",
       "For 3.png                                                              \n",
       "2          Andreas       3.png           2.579554                    No\n",
       "7            Marie       3.png          70.146923                    No\n",
       "12          Mikael       3.png           2.540684                   Yes\n",
       "17          Stefan       3.png          70.516333                    No\n",
       "22             Ulf       3.png          60.171756                    No"
      ]
     },
     "metadata": {},
     "output_type": "display_data"
    },
    {
     "data": {
      "text/html": [
       "<div>\n",
       "<style scoped>\n",
       "    .dataframe tbody tr th:only-of-type {\n",
       "        vertical-align: middle;\n",
       "    }\n",
       "\n",
       "    .dataframe tbody tr th {\n",
       "        vertical-align: top;\n",
       "    }\n",
       "\n",
       "    .dataframe thead th {\n",
       "        text-align: right;\n",
       "    }\n",
       "</style>\n",
       "<table border=\"1\" class=\"dataframe\">\n",
       "  <thead>\n",
       "    <tr style=\"text-align: right;\">\n",
       "      <th></th>\n",
       "      <th>name</th>\n",
       "      <th>testPicture</th>\n",
       "      <th>euclidianDistance</th>\n",
       "      <th>Correctly identified?</th>\n",
       "    </tr>\n",
       "    <tr>\n",
       "      <th>For 4.png</th>\n",
       "      <th></th>\n",
       "      <th></th>\n",
       "      <th></th>\n",
       "      <th></th>\n",
       "    </tr>\n",
       "  </thead>\n",
       "  <tbody>\n",
       "    <tr>\n",
       "      <th>3</th>\n",
       "      <td>Andreas</td>\n",
       "      <td>4.png</td>\n",
       "      <td>66.198936</td>\n",
       "      <td>No</td>\n",
       "    </tr>\n",
       "    <tr>\n",
       "      <th>8</th>\n",
       "      <td>Marie</td>\n",
       "      <td>4.png</td>\n",
       "      <td>21.263034</td>\n",
       "      <td>No</td>\n",
       "    </tr>\n",
       "    <tr>\n",
       "      <th>13</th>\n",
       "      <td>Mikael</td>\n",
       "      <td>4.png</td>\n",
       "      <td>63.297712</td>\n",
       "      <td>No</td>\n",
       "    </tr>\n",
       "    <tr>\n",
       "      <th>18</th>\n",
       "      <td>Stefan</td>\n",
       "      <td>4.png</td>\n",
       "      <td>4.946229</td>\n",
       "      <td>Yes</td>\n",
       "    </tr>\n",
       "    <tr>\n",
       "      <th>23</th>\n",
       "      <td>Ulf</td>\n",
       "      <td>4.png</td>\n",
       "      <td>12.026583</td>\n",
       "      <td>No</td>\n",
       "    </tr>\n",
       "  </tbody>\n",
       "</table>\n",
       "</div>"
      ],
      "text/plain": [
       "              name testPicture  euclidianDistance Correctly identified?\n",
       "For 4.png                                                              \n",
       "3          Andreas       4.png          66.198936                    No\n",
       "8            Marie       4.png          21.263034                    No\n",
       "13          Mikael       4.png          63.297712                    No\n",
       "18          Stefan       4.png           4.946229                   Yes\n",
       "23             Ulf       4.png          12.026583                    No"
      ]
     },
     "metadata": {},
     "output_type": "display_data"
    },
    {
     "data": {
      "text/html": [
       "<div>\n",
       "<style scoped>\n",
       "    .dataframe tbody tr th:only-of-type {\n",
       "        vertical-align: middle;\n",
       "    }\n",
       "\n",
       "    .dataframe tbody tr th {\n",
       "        vertical-align: top;\n",
       "    }\n",
       "\n",
       "    .dataframe thead th {\n",
       "        text-align: right;\n",
       "    }\n",
       "</style>\n",
       "<table border=\"1\" class=\"dataframe\">\n",
       "  <thead>\n",
       "    <tr style=\"text-align: right;\">\n",
       "      <th></th>\n",
       "      <th>name</th>\n",
       "      <th>testPicture</th>\n",
       "      <th>euclidianDistance</th>\n",
       "      <th>Correctly identified?</th>\n",
       "    </tr>\n",
       "    <tr>\n",
       "      <th>For 5.png</th>\n",
       "      <th></th>\n",
       "      <th></th>\n",
       "      <th></th>\n",
       "      <th></th>\n",
       "    </tr>\n",
       "  </thead>\n",
       "  <tbody>\n",
       "    <tr>\n",
       "      <th>4</th>\n",
       "      <td>Andreas</td>\n",
       "      <td>5.png</td>\n",
       "      <td>63.060346</td>\n",
       "      <td>No</td>\n",
       "    </tr>\n",
       "    <tr>\n",
       "      <th>9</th>\n",
       "      <td>Marie</td>\n",
       "      <td>5.png</td>\n",
       "      <td>13.523829</td>\n",
       "      <td>No</td>\n",
       "    </tr>\n",
       "    <tr>\n",
       "      <th>14</th>\n",
       "      <td>Mikael</td>\n",
       "      <td>5.png</td>\n",
       "      <td>59.845782</td>\n",
       "      <td>No</td>\n",
       "    </tr>\n",
       "    <tr>\n",
       "      <th>19</th>\n",
       "      <td>Stefan</td>\n",
       "      <td>5.png</td>\n",
       "      <td>11.261628</td>\n",
       "      <td>No</td>\n",
       "    </tr>\n",
       "    <tr>\n",
       "      <th>24</th>\n",
       "      <td>Ulf</td>\n",
       "      <td>5.png</td>\n",
       "      <td>2.780517</td>\n",
       "      <td>Yes</td>\n",
       "    </tr>\n",
       "  </tbody>\n",
       "</table>\n",
       "</div>"
      ],
      "text/plain": [
       "              name testPicture  euclidianDistance Correctly identified?\n",
       "For 5.png                                                              \n",
       "4          Andreas       5.png          63.060346                    No\n",
       "9            Marie       5.png          13.523829                    No\n",
       "14          Mikael       5.png          59.845782                    No\n",
       "19          Stefan       5.png          11.261628                    No\n",
       "24             Ulf       5.png           2.780517                   Yes"
      ]
     },
     "metadata": {},
     "output_type": "display_data"
    }
   ],
   "source": [
    "test_images = r\"Test\"\n",
    "all_images = np.array(getAllImageData())\n",
    "test_images = np.array(getTestImages(DIR2))\n",
    "result = {\"name\": [], \"testPicture\": [], \"euclidianDistance\": []}\n",
    "\n",
    "for index, image in enumerate(all_images):\n",
    "    for index2, testimage in enumerate(test_images):\n",
    "        result[\"name\"].append(all_images[index][0])\n",
    "        result[\"testPicture\"].append(testimage[0])\n",
    "        result[\"euclidianDistance\"].append(distance.euclidean(image[1:], testimage[1:]))\n",
    "trueDf = pd.DataFrame(data=result)\n",
    "trueDf.reset_index()\n",
    "\n",
    "    \n",
    "df1 = getCorrectPerson(trueDf, 1)\n",
    "df2 = getCorrectPerson(trueDf, 2)\n",
    "df3 = getCorrectPerson(trueDf, 3)\n",
    "df4 = getCorrectPerson(trueDf, 4)\n",
    "df5 = getCorrectPerson(trueDf, 5)\n",
    "\n",
    "display(df1, df2,df3,df4, df5)\n",
    "\n"
   ]
  },
  {
   "cell_type": "code",
   "execution_count": 8,
   "id": "3440e355",
   "metadata": {},
   "outputs": [
    {
     "data": {
      "application/vnd.plotly.v1+json": {
       "config": {
        "plotlyServerURL": "https://plot.ly"
       },
       "data": [
        {
         "line": {
          "color": "red"
         },
         "marker": {
          "symbol": "triangle-up"
         },
         "mode": "markers",
         "name": "Andreas",
         "type": "scatter",
         "x": [
          108.84002229654403,
          99.97380156075808,
          106.60144927536231,
          110.70289855072464,
          92.04960981047938,
          99.11705685618729,
          97.27034559643255,
          110.11705685618729,
          110.55908584169454
         ],
         "y": [
          45.21434820262897,
          38.768096566792224,
          44.076565314685475,
          51.760019118160486,
          41.974647181117575,
          42.6098385097409,
          43.146647103695315,
          39.72174271048223,
          43.407458920227626
         ]
        },
        {
         "line": {
          "color": "red"
         },
         "marker": {
          "symbol": "x"
         },
         "mode": "markers",
         "name": "Andreas mean",
         "type": "scatter",
         "x": [
          103.91459184937446
         ],
         "y": [
          43.408818180836754
         ]
        },
        {
         "line": {
          "color": "green"
         },
         "marker": {
          "symbol": "triangle-up"
         },
         "mode": "markers",
         "name": "Marie",
         "type": "scatter",
         "x": [
          180.14102564102564,
          160.02777777777777,
          155.35683760683762,
          179.40384615384616,
          177.61858974358975,
          159.3071581196581,
          178.23717948717947,
          177.07745726495727,
          164.13782051282053
         ],
         "y": [
          67.92626080272908,
          69.65039588687547,
          74.45992021352426,
          66.14881683078757,
          68.92202515783565,
          74.2493646699386,
          68.13381869647675,
          69.71976785881199,
          68.1183470926479
         ]
        },
        {
         "line": {
          "color": "green"
         },
         "marker": {
          "symbol": "x"
         },
         "mode": "markers",
         "name": "Marie mean",
         "type": "scatter",
         "x": [
          170.14529914529916
         ],
         "y": [
          69.7031908010697
         ]
        },
        {
         "line": {
          "color": "blue"
         },
         "marker": {
          "symbol": "triangle-up"
         },
         "mode": "markers",
         "name": "Mikael",
         "type": "scatter",
         "x": [
          109.85042735042735,
          104.76282051282051,
          113.14850427350427,
          114.84241452991454,
          100.56570512820512,
          101.39903846153847,
          109.78792735042735,
          102.76602564102564,
          102.93055555555556
         ],
         "y": [
          46.434162791810365,
          47.794580770408125,
          43.4638610800401,
          43.8065538766303,
          48.06130299138061,
          46.80801007058249,
          45.14804000888958,
          43.8316729676685,
          48.36114900438876
         ]
        },
        {
         "line": {
          "color": "blue"
         },
         "marker": {
          "symbol": "x"
         },
         "mode": "markers",
         "name": "Mikael mean",
         "type": "scatter",
         "x": [
          106.67260208926876
         ],
         "y": [
          45.967703729088754
         ]
        },
        {
         "line": {
          "color": "orange"
         },
         "marker": {
          "symbol": "triangle-up"
         },
         "mode": "markers",
         "name": "Stefan",
         "type": "scatter",
         "x": [
          169.29375696767002,
          180.20735785953178,
          178.20680044593087,
          172.20178372352285,
          174.33779264214047,
          165.50501672240802,
          181.0334448160535,
          177.7458193979933,
          172.12653288740245
         ],
         "y": [
          47.40128620901224,
          52.90820421212767,
          51.541403933316154,
          48.15704378783594,
          48.06758119698437,
          48.780070078023556,
          51.91898324547208,
          53.02156695902268,
          50.637201047220536
         ]
        },
        {
         "line": {
          "color": "orange"
         },
         "marker": {
          "symbol": "x"
         },
         "mode": "markers",
         "name": "Stefan mean",
         "type": "scatter",
         "x": [
          174.51758949585036
         ],
         "y": [
          50.27037118544614
         ]
        },
        {
         "line": {
          "color": "black"
         },
         "marker": {
          "symbol": "triangle-up"
         },
         "mode": "markers",
         "name": "Ulf",
         "type": "scatter",
         "x": [
          155.35441595441594,
          160.4957264957265,
          163.47122507122506,
          167.1076923076923,
          163.4974358974359,
          161.56752136752138,
          161.46210826210827,
          169.05698005698005,
          165.25185185185185
         ],
         "y": [
          59.7146469611596,
          60.88816855560898,
          54.007730252152136,
          60.10189186053852,
          56.9208113817271,
          57.23725177471817,
          61.34882854339111,
          56.70694547367208,
          57.74562886717749
         ]
        },
        {
         "line": {
          "color": "black"
         },
         "marker": {
          "symbol": "x"
         },
         "mode": "markers",
         "name": "Ulf mean",
         "type": "scatter",
         "x": [
          163.02943969610635
         ],
         "y": [
          58.296878185571686
         ]
        }
       ],
       "layout": {
        "template": {
         "data": {
          "bar": [
           {
            "error_x": {
             "color": "#2a3f5f"
            },
            "error_y": {
             "color": "#2a3f5f"
            },
            "marker": {
             "line": {
              "color": "#E5ECF6",
              "width": 0.5
             },
             "pattern": {
              "fillmode": "overlay",
              "size": 10,
              "solidity": 0.2
             }
            },
            "type": "bar"
           }
          ],
          "barpolar": [
           {
            "marker": {
             "line": {
              "color": "#E5ECF6",
              "width": 0.5
             },
             "pattern": {
              "fillmode": "overlay",
              "size": 10,
              "solidity": 0.2
             }
            },
            "type": "barpolar"
           }
          ],
          "carpet": [
           {
            "aaxis": {
             "endlinecolor": "#2a3f5f",
             "gridcolor": "white",
             "linecolor": "white",
             "minorgridcolor": "white",
             "startlinecolor": "#2a3f5f"
            },
            "baxis": {
             "endlinecolor": "#2a3f5f",
             "gridcolor": "white",
             "linecolor": "white",
             "minorgridcolor": "white",
             "startlinecolor": "#2a3f5f"
            },
            "type": "carpet"
           }
          ],
          "choropleth": [
           {
            "colorbar": {
             "outlinewidth": 0,
             "ticks": ""
            },
            "type": "choropleth"
           }
          ],
          "contour": [
           {
            "colorbar": {
             "outlinewidth": 0,
             "ticks": ""
            },
            "colorscale": [
             [
              0,
              "#0d0887"
             ],
             [
              0.1111111111111111,
              "#46039f"
             ],
             [
              0.2222222222222222,
              "#7201a8"
             ],
             [
              0.3333333333333333,
              "#9c179e"
             ],
             [
              0.4444444444444444,
              "#bd3786"
             ],
             [
              0.5555555555555556,
              "#d8576b"
             ],
             [
              0.6666666666666666,
              "#ed7953"
             ],
             [
              0.7777777777777778,
              "#fb9f3a"
             ],
             [
              0.8888888888888888,
              "#fdca26"
             ],
             [
              1,
              "#f0f921"
             ]
            ],
            "type": "contour"
           }
          ],
          "contourcarpet": [
           {
            "colorbar": {
             "outlinewidth": 0,
             "ticks": ""
            },
            "type": "contourcarpet"
           }
          ],
          "heatmap": [
           {
            "colorbar": {
             "outlinewidth": 0,
             "ticks": ""
            },
            "colorscale": [
             [
              0,
              "#0d0887"
             ],
             [
              0.1111111111111111,
              "#46039f"
             ],
             [
              0.2222222222222222,
              "#7201a8"
             ],
             [
              0.3333333333333333,
              "#9c179e"
             ],
             [
              0.4444444444444444,
              "#bd3786"
             ],
             [
              0.5555555555555556,
              "#d8576b"
             ],
             [
              0.6666666666666666,
              "#ed7953"
             ],
             [
              0.7777777777777778,
              "#fb9f3a"
             ],
             [
              0.8888888888888888,
              "#fdca26"
             ],
             [
              1,
              "#f0f921"
             ]
            ],
            "type": "heatmap"
           }
          ],
          "heatmapgl": [
           {
            "colorbar": {
             "outlinewidth": 0,
             "ticks": ""
            },
            "colorscale": [
             [
              0,
              "#0d0887"
             ],
             [
              0.1111111111111111,
              "#46039f"
             ],
             [
              0.2222222222222222,
              "#7201a8"
             ],
             [
              0.3333333333333333,
              "#9c179e"
             ],
             [
              0.4444444444444444,
              "#bd3786"
             ],
             [
              0.5555555555555556,
              "#d8576b"
             ],
             [
              0.6666666666666666,
              "#ed7953"
             ],
             [
              0.7777777777777778,
              "#fb9f3a"
             ],
             [
              0.8888888888888888,
              "#fdca26"
             ],
             [
              1,
              "#f0f921"
             ]
            ],
            "type": "heatmapgl"
           }
          ],
          "histogram": [
           {
            "marker": {
             "pattern": {
              "fillmode": "overlay",
              "size": 10,
              "solidity": 0.2
             }
            },
            "type": "histogram"
           }
          ],
          "histogram2d": [
           {
            "colorbar": {
             "outlinewidth": 0,
             "ticks": ""
            },
            "colorscale": [
             [
              0,
              "#0d0887"
             ],
             [
              0.1111111111111111,
              "#46039f"
             ],
             [
              0.2222222222222222,
              "#7201a8"
             ],
             [
              0.3333333333333333,
              "#9c179e"
             ],
             [
              0.4444444444444444,
              "#bd3786"
             ],
             [
              0.5555555555555556,
              "#d8576b"
             ],
             [
              0.6666666666666666,
              "#ed7953"
             ],
             [
              0.7777777777777778,
              "#fb9f3a"
             ],
             [
              0.8888888888888888,
              "#fdca26"
             ],
             [
              1,
              "#f0f921"
             ]
            ],
            "type": "histogram2d"
           }
          ],
          "histogram2dcontour": [
           {
            "colorbar": {
             "outlinewidth": 0,
             "ticks": ""
            },
            "colorscale": [
             [
              0,
              "#0d0887"
             ],
             [
              0.1111111111111111,
              "#46039f"
             ],
             [
              0.2222222222222222,
              "#7201a8"
             ],
             [
              0.3333333333333333,
              "#9c179e"
             ],
             [
              0.4444444444444444,
              "#bd3786"
             ],
             [
              0.5555555555555556,
              "#d8576b"
             ],
             [
              0.6666666666666666,
              "#ed7953"
             ],
             [
              0.7777777777777778,
              "#fb9f3a"
             ],
             [
              0.8888888888888888,
              "#fdca26"
             ],
             [
              1,
              "#f0f921"
             ]
            ],
            "type": "histogram2dcontour"
           }
          ],
          "mesh3d": [
           {
            "colorbar": {
             "outlinewidth": 0,
             "ticks": ""
            },
            "type": "mesh3d"
           }
          ],
          "parcoords": [
           {
            "line": {
             "colorbar": {
              "outlinewidth": 0,
              "ticks": ""
             }
            },
            "type": "parcoords"
           }
          ],
          "pie": [
           {
            "automargin": true,
            "type": "pie"
           }
          ],
          "scatter": [
           {
            "fillpattern": {
             "fillmode": "overlay",
             "size": 10,
             "solidity": 0.2
            },
            "type": "scatter"
           }
          ],
          "scatter3d": [
           {
            "line": {
             "colorbar": {
              "outlinewidth": 0,
              "ticks": ""
             }
            },
            "marker": {
             "colorbar": {
              "outlinewidth": 0,
              "ticks": ""
             }
            },
            "type": "scatter3d"
           }
          ],
          "scattercarpet": [
           {
            "marker": {
             "colorbar": {
              "outlinewidth": 0,
              "ticks": ""
             }
            },
            "type": "scattercarpet"
           }
          ],
          "scattergeo": [
           {
            "marker": {
             "colorbar": {
              "outlinewidth": 0,
              "ticks": ""
             }
            },
            "type": "scattergeo"
           }
          ],
          "scattergl": [
           {
            "marker": {
             "colorbar": {
              "outlinewidth": 0,
              "ticks": ""
             }
            },
            "type": "scattergl"
           }
          ],
          "scattermapbox": [
           {
            "marker": {
             "colorbar": {
              "outlinewidth": 0,
              "ticks": ""
             }
            },
            "type": "scattermapbox"
           }
          ],
          "scatterpolar": [
           {
            "marker": {
             "colorbar": {
              "outlinewidth": 0,
              "ticks": ""
             }
            },
            "type": "scatterpolar"
           }
          ],
          "scatterpolargl": [
           {
            "marker": {
             "colorbar": {
              "outlinewidth": 0,
              "ticks": ""
             }
            },
            "type": "scatterpolargl"
           }
          ],
          "scatterternary": [
           {
            "marker": {
             "colorbar": {
              "outlinewidth": 0,
              "ticks": ""
             }
            },
            "type": "scatterternary"
           }
          ],
          "surface": [
           {
            "colorbar": {
             "outlinewidth": 0,
             "ticks": ""
            },
            "colorscale": [
             [
              0,
              "#0d0887"
             ],
             [
              0.1111111111111111,
              "#46039f"
             ],
             [
              0.2222222222222222,
              "#7201a8"
             ],
             [
              0.3333333333333333,
              "#9c179e"
             ],
             [
              0.4444444444444444,
              "#bd3786"
             ],
             [
              0.5555555555555556,
              "#d8576b"
             ],
             [
              0.6666666666666666,
              "#ed7953"
             ],
             [
              0.7777777777777778,
              "#fb9f3a"
             ],
             [
              0.8888888888888888,
              "#fdca26"
             ],
             [
              1,
              "#f0f921"
             ]
            ],
            "type": "surface"
           }
          ],
          "table": [
           {
            "cells": {
             "fill": {
              "color": "#EBF0F8"
             },
             "line": {
              "color": "white"
             }
            },
            "header": {
             "fill": {
              "color": "#C8D4E3"
             },
             "line": {
              "color": "white"
             }
            },
            "type": "table"
           }
          ]
         },
         "layout": {
          "annotationdefaults": {
           "arrowcolor": "#2a3f5f",
           "arrowhead": 0,
           "arrowwidth": 1
          },
          "autotypenumbers": "strict",
          "coloraxis": {
           "colorbar": {
            "outlinewidth": 0,
            "ticks": ""
           }
          },
          "colorscale": {
           "diverging": [
            [
             0,
             "#8e0152"
            ],
            [
             0.1,
             "#c51b7d"
            ],
            [
             0.2,
             "#de77ae"
            ],
            [
             0.3,
             "#f1b6da"
            ],
            [
             0.4,
             "#fde0ef"
            ],
            [
             0.5,
             "#f7f7f7"
            ],
            [
             0.6,
             "#e6f5d0"
            ],
            [
             0.7,
             "#b8e186"
            ],
            [
             0.8,
             "#7fbc41"
            ],
            [
             0.9,
             "#4d9221"
            ],
            [
             1,
             "#276419"
            ]
           ],
           "sequential": [
            [
             0,
             "#0d0887"
            ],
            [
             0.1111111111111111,
             "#46039f"
            ],
            [
             0.2222222222222222,
             "#7201a8"
            ],
            [
             0.3333333333333333,
             "#9c179e"
            ],
            [
             0.4444444444444444,
             "#bd3786"
            ],
            [
             0.5555555555555556,
             "#d8576b"
            ],
            [
             0.6666666666666666,
             "#ed7953"
            ],
            [
             0.7777777777777778,
             "#fb9f3a"
            ],
            [
             0.8888888888888888,
             "#fdca26"
            ],
            [
             1,
             "#f0f921"
            ]
           ],
           "sequentialminus": [
            [
             0,
             "#0d0887"
            ],
            [
             0.1111111111111111,
             "#46039f"
            ],
            [
             0.2222222222222222,
             "#7201a8"
            ],
            [
             0.3333333333333333,
             "#9c179e"
            ],
            [
             0.4444444444444444,
             "#bd3786"
            ],
            [
             0.5555555555555556,
             "#d8576b"
            ],
            [
             0.6666666666666666,
             "#ed7953"
            ],
            [
             0.7777777777777778,
             "#fb9f3a"
            ],
            [
             0.8888888888888888,
             "#fdca26"
            ],
            [
             1,
             "#f0f921"
            ]
           ]
          },
          "colorway": [
           "#636efa",
           "#EF553B",
           "#00cc96",
           "#ab63fa",
           "#FFA15A",
           "#19d3f3",
           "#FF6692",
           "#B6E880",
           "#FF97FF",
           "#FECB52"
          ],
          "font": {
           "color": "#2a3f5f"
          },
          "geo": {
           "bgcolor": "white",
           "lakecolor": "white",
           "landcolor": "#E5ECF6",
           "showlakes": true,
           "showland": true,
           "subunitcolor": "white"
          },
          "hoverlabel": {
           "align": "left"
          },
          "hovermode": "closest",
          "mapbox": {
           "style": "light"
          },
          "paper_bgcolor": "white",
          "plot_bgcolor": "#E5ECF6",
          "polar": {
           "angularaxis": {
            "gridcolor": "white",
            "linecolor": "white",
            "ticks": ""
           },
           "bgcolor": "#E5ECF6",
           "radialaxis": {
            "gridcolor": "white",
            "linecolor": "white",
            "ticks": ""
           }
          },
          "scene": {
           "xaxis": {
            "backgroundcolor": "#E5ECF6",
            "gridcolor": "white",
            "gridwidth": 2,
            "linecolor": "white",
            "showbackground": true,
            "ticks": "",
            "zerolinecolor": "white"
           },
           "yaxis": {
            "backgroundcolor": "#E5ECF6",
            "gridcolor": "white",
            "gridwidth": 2,
            "linecolor": "white",
            "showbackground": true,
            "ticks": "",
            "zerolinecolor": "white"
           },
           "zaxis": {
            "backgroundcolor": "#E5ECF6",
            "gridcolor": "white",
            "gridwidth": 2,
            "linecolor": "white",
            "showbackground": true,
            "ticks": "",
            "zerolinecolor": "white"
           }
          },
          "shapedefaults": {
           "line": {
            "color": "#2a3f5f"
           }
          },
          "ternary": {
           "aaxis": {
            "gridcolor": "white",
            "linecolor": "white",
            "ticks": ""
           },
           "baxis": {
            "gridcolor": "white",
            "linecolor": "white",
            "ticks": ""
           },
           "bgcolor": "#E5ECF6",
           "caxis": {
            "gridcolor": "white",
            "linecolor": "white",
            "ticks": ""
           }
          },
          "title": {
           "x": 0.05
          },
          "xaxis": {
           "automargin": true,
           "gridcolor": "white",
           "linecolor": "white",
           "ticks": "",
           "title": {
            "standoff": 15
           },
           "zerolinecolor": "white",
           "zerolinewidth": 2
          },
          "yaxis": {
           "automargin": true,
           "gridcolor": "white",
           "linecolor": "white",
           "ticks": "",
           "title": {
            "standoff": 15
           },
           "zerolinecolor": "white",
           "zerolinewidth": 2
          }
         }
        },
        "title": {
         "text": "Standard Deviation .Vs Mean Intensity Value"
        },
        "xaxis": {
         "title": {
          "text": "Mean Intensity Value"
         }
        },
        "yaxis": {
         "title": {
          "text": "Standard Deviation"
         }
        }
       }
      },
      "text/html": [
       "<div>                            <div id=\"f8164677-9db3-458e-8b24-8524cf96ed77\" class=\"plotly-graph-div\" style=\"height:525px; width:100%;\"></div>            <script type=\"text/javascript\">                require([\"plotly\"], function(Plotly) {                    window.PLOTLYENV=window.PLOTLYENV || {};                                    if (document.getElementById(\"f8164677-9db3-458e-8b24-8524cf96ed77\")) {                    Plotly.newPlot(                        \"f8164677-9db3-458e-8b24-8524cf96ed77\",                        [{\"line\":{\"color\":\"red\"},\"marker\":{\"symbol\":\"triangle-up\"},\"mode\":\"markers\",\"name\":\"Andreas\",\"x\":[108.84002229654403,99.97380156075808,106.60144927536231,110.70289855072464,92.04960981047938,99.11705685618729,97.27034559643255,110.11705685618729,110.55908584169454],\"y\":[45.21434820262897,38.768096566792224,44.076565314685475,51.760019118160486,41.974647181117575,42.6098385097409,43.146647103695315,39.72174271048223,43.407458920227626],\"type\":\"scatter\"},{\"line\":{\"color\":\"red\"},\"marker\":{\"symbol\":\"x\"},\"mode\":\"markers\",\"name\":\"Andreas mean\",\"x\":[103.91459184937446],\"y\":[43.408818180836754],\"type\":\"scatter\"},{\"line\":{\"color\":\"green\"},\"marker\":{\"symbol\":\"triangle-up\"},\"mode\":\"markers\",\"name\":\"Marie\",\"x\":[180.14102564102564,160.02777777777777,155.35683760683762,179.40384615384616,177.61858974358975,159.3071581196581,178.23717948717947,177.07745726495727,164.13782051282053],\"y\":[67.92626080272908,69.65039588687547,74.45992021352426,66.14881683078757,68.92202515783565,74.2493646699386,68.13381869647675,69.71976785881199,68.1183470926479],\"type\":\"scatter\"},{\"line\":{\"color\":\"green\"},\"marker\":{\"symbol\":\"x\"},\"mode\":\"markers\",\"name\":\"Marie mean\",\"x\":[170.14529914529916],\"y\":[69.7031908010697],\"type\":\"scatter\"},{\"line\":{\"color\":\"blue\"},\"marker\":{\"symbol\":\"triangle-up\"},\"mode\":\"markers\",\"name\":\"Mikael\",\"x\":[109.85042735042735,104.76282051282051,113.14850427350427,114.84241452991454,100.56570512820512,101.39903846153847,109.78792735042735,102.76602564102564,102.93055555555556],\"y\":[46.434162791810365,47.794580770408125,43.4638610800401,43.8065538766303,48.06130299138061,46.80801007058249,45.14804000888958,43.8316729676685,48.36114900438876],\"type\":\"scatter\"},{\"line\":{\"color\":\"blue\"},\"marker\":{\"symbol\":\"x\"},\"mode\":\"markers\",\"name\":\"Mikael mean\",\"x\":[106.67260208926876],\"y\":[45.967703729088754],\"type\":\"scatter\"},{\"line\":{\"color\":\"orange\"},\"marker\":{\"symbol\":\"triangle-up\"},\"mode\":\"markers\",\"name\":\"Stefan\",\"x\":[169.29375696767002,180.20735785953178,178.20680044593087,172.20178372352285,174.33779264214047,165.50501672240802,181.0334448160535,177.7458193979933,172.12653288740245],\"y\":[47.40128620901224,52.90820421212767,51.541403933316154,48.15704378783594,48.06758119698437,48.780070078023556,51.91898324547208,53.02156695902268,50.637201047220536],\"type\":\"scatter\"},{\"line\":{\"color\":\"orange\"},\"marker\":{\"symbol\":\"x\"},\"mode\":\"markers\",\"name\":\"Stefan mean\",\"x\":[174.51758949585036],\"y\":[50.27037118544614],\"type\":\"scatter\"},{\"line\":{\"color\":\"black\"},\"marker\":{\"symbol\":\"triangle-up\"},\"mode\":\"markers\",\"name\":\"Ulf\",\"x\":[155.35441595441594,160.4957264957265,163.47122507122506,167.1076923076923,163.4974358974359,161.56752136752138,161.46210826210827,169.05698005698005,165.25185185185185],\"y\":[59.7146469611596,60.88816855560898,54.007730252152136,60.10189186053852,56.9208113817271,57.23725177471817,61.34882854339111,56.70694547367208,57.74562886717749],\"type\":\"scatter\"},{\"line\":{\"color\":\"black\"},\"marker\":{\"symbol\":\"x\"},\"mode\":\"markers\",\"name\":\"Ulf mean\",\"x\":[163.02943969610635],\"y\":[58.296878185571686],\"type\":\"scatter\"}],                        {\"template\":{\"data\":{\"histogram2dcontour\":[{\"type\":\"histogram2dcontour\",\"colorbar\":{\"outlinewidth\":0,\"ticks\":\"\"},\"colorscale\":[[0.0,\"#0d0887\"],[0.1111111111111111,\"#46039f\"],[0.2222222222222222,\"#7201a8\"],[0.3333333333333333,\"#9c179e\"],[0.4444444444444444,\"#bd3786\"],[0.5555555555555556,\"#d8576b\"],[0.6666666666666666,\"#ed7953\"],[0.7777777777777778,\"#fb9f3a\"],[0.8888888888888888,\"#fdca26\"],[1.0,\"#f0f921\"]]}],\"choropleth\":[{\"type\":\"choropleth\",\"colorbar\":{\"outlinewidth\":0,\"ticks\":\"\"}}],\"histogram2d\":[{\"type\":\"histogram2d\",\"colorbar\":{\"outlinewidth\":0,\"ticks\":\"\"},\"colorscale\":[[0.0,\"#0d0887\"],[0.1111111111111111,\"#46039f\"],[0.2222222222222222,\"#7201a8\"],[0.3333333333333333,\"#9c179e\"],[0.4444444444444444,\"#bd3786\"],[0.5555555555555556,\"#d8576b\"],[0.6666666666666666,\"#ed7953\"],[0.7777777777777778,\"#fb9f3a\"],[0.8888888888888888,\"#fdca26\"],[1.0,\"#f0f921\"]]}],\"heatmap\":[{\"type\":\"heatmap\",\"colorbar\":{\"outlinewidth\":0,\"ticks\":\"\"},\"colorscale\":[[0.0,\"#0d0887\"],[0.1111111111111111,\"#46039f\"],[0.2222222222222222,\"#7201a8\"],[0.3333333333333333,\"#9c179e\"],[0.4444444444444444,\"#bd3786\"],[0.5555555555555556,\"#d8576b\"],[0.6666666666666666,\"#ed7953\"],[0.7777777777777778,\"#fb9f3a\"],[0.8888888888888888,\"#fdca26\"],[1.0,\"#f0f921\"]]}],\"heatmapgl\":[{\"type\":\"heatmapgl\",\"colorbar\":{\"outlinewidth\":0,\"ticks\":\"\"},\"colorscale\":[[0.0,\"#0d0887\"],[0.1111111111111111,\"#46039f\"],[0.2222222222222222,\"#7201a8\"],[0.3333333333333333,\"#9c179e\"],[0.4444444444444444,\"#bd3786\"],[0.5555555555555556,\"#d8576b\"],[0.6666666666666666,\"#ed7953\"],[0.7777777777777778,\"#fb9f3a\"],[0.8888888888888888,\"#fdca26\"],[1.0,\"#f0f921\"]]}],\"contourcarpet\":[{\"type\":\"contourcarpet\",\"colorbar\":{\"outlinewidth\":0,\"ticks\":\"\"}}],\"contour\":[{\"type\":\"contour\",\"colorbar\":{\"outlinewidth\":0,\"ticks\":\"\"},\"colorscale\":[[0.0,\"#0d0887\"],[0.1111111111111111,\"#46039f\"],[0.2222222222222222,\"#7201a8\"],[0.3333333333333333,\"#9c179e\"],[0.4444444444444444,\"#bd3786\"],[0.5555555555555556,\"#d8576b\"],[0.6666666666666666,\"#ed7953\"],[0.7777777777777778,\"#fb9f3a\"],[0.8888888888888888,\"#fdca26\"],[1.0,\"#f0f921\"]]}],\"surface\":[{\"type\":\"surface\",\"colorbar\":{\"outlinewidth\":0,\"ticks\":\"\"},\"colorscale\":[[0.0,\"#0d0887\"],[0.1111111111111111,\"#46039f\"],[0.2222222222222222,\"#7201a8\"],[0.3333333333333333,\"#9c179e\"],[0.4444444444444444,\"#bd3786\"],[0.5555555555555556,\"#d8576b\"],[0.6666666666666666,\"#ed7953\"],[0.7777777777777778,\"#fb9f3a\"],[0.8888888888888888,\"#fdca26\"],[1.0,\"#f0f921\"]]}],\"mesh3d\":[{\"type\":\"mesh3d\",\"colorbar\":{\"outlinewidth\":0,\"ticks\":\"\"}}],\"scatter\":[{\"fillpattern\":{\"fillmode\":\"overlay\",\"size\":10,\"solidity\":0.2},\"type\":\"scatter\"}],\"parcoords\":[{\"type\":\"parcoords\",\"line\":{\"colorbar\":{\"outlinewidth\":0,\"ticks\":\"\"}}}],\"scatterpolargl\":[{\"type\":\"scatterpolargl\",\"marker\":{\"colorbar\":{\"outlinewidth\":0,\"ticks\":\"\"}}}],\"bar\":[{\"error_x\":{\"color\":\"#2a3f5f\"},\"error_y\":{\"color\":\"#2a3f5f\"},\"marker\":{\"line\":{\"color\":\"#E5ECF6\",\"width\":0.5},\"pattern\":{\"fillmode\":\"overlay\",\"size\":10,\"solidity\":0.2}},\"type\":\"bar\"}],\"scattergeo\":[{\"type\":\"scattergeo\",\"marker\":{\"colorbar\":{\"outlinewidth\":0,\"ticks\":\"\"}}}],\"scatterpolar\":[{\"type\":\"scatterpolar\",\"marker\":{\"colorbar\":{\"outlinewidth\":0,\"ticks\":\"\"}}}],\"histogram\":[{\"marker\":{\"pattern\":{\"fillmode\":\"overlay\",\"size\":10,\"solidity\":0.2}},\"type\":\"histogram\"}],\"scattergl\":[{\"type\":\"scattergl\",\"marker\":{\"colorbar\":{\"outlinewidth\":0,\"ticks\":\"\"}}}],\"scatter3d\":[{\"type\":\"scatter3d\",\"line\":{\"colorbar\":{\"outlinewidth\":0,\"ticks\":\"\"}},\"marker\":{\"colorbar\":{\"outlinewidth\":0,\"ticks\":\"\"}}}],\"scattermapbox\":[{\"type\":\"scattermapbox\",\"marker\":{\"colorbar\":{\"outlinewidth\":0,\"ticks\":\"\"}}}],\"scatterternary\":[{\"type\":\"scatterternary\",\"marker\":{\"colorbar\":{\"outlinewidth\":0,\"ticks\":\"\"}}}],\"scattercarpet\":[{\"type\":\"scattercarpet\",\"marker\":{\"colorbar\":{\"outlinewidth\":0,\"ticks\":\"\"}}}],\"carpet\":[{\"aaxis\":{\"endlinecolor\":\"#2a3f5f\",\"gridcolor\":\"white\",\"linecolor\":\"white\",\"minorgridcolor\":\"white\",\"startlinecolor\":\"#2a3f5f\"},\"baxis\":{\"endlinecolor\":\"#2a3f5f\",\"gridcolor\":\"white\",\"linecolor\":\"white\",\"minorgridcolor\":\"white\",\"startlinecolor\":\"#2a3f5f\"},\"type\":\"carpet\"}],\"table\":[{\"cells\":{\"fill\":{\"color\":\"#EBF0F8\"},\"line\":{\"color\":\"white\"}},\"header\":{\"fill\":{\"color\":\"#C8D4E3\"},\"line\":{\"color\":\"white\"}},\"type\":\"table\"}],\"barpolar\":[{\"marker\":{\"line\":{\"color\":\"#E5ECF6\",\"width\":0.5},\"pattern\":{\"fillmode\":\"overlay\",\"size\":10,\"solidity\":0.2}},\"type\":\"barpolar\"}],\"pie\":[{\"automargin\":true,\"type\":\"pie\"}]},\"layout\":{\"autotypenumbers\":\"strict\",\"colorway\":[\"#636efa\",\"#EF553B\",\"#00cc96\",\"#ab63fa\",\"#FFA15A\",\"#19d3f3\",\"#FF6692\",\"#B6E880\",\"#FF97FF\",\"#FECB52\"],\"font\":{\"color\":\"#2a3f5f\"},\"hovermode\":\"closest\",\"hoverlabel\":{\"align\":\"left\"},\"paper_bgcolor\":\"white\",\"plot_bgcolor\":\"#E5ECF6\",\"polar\":{\"bgcolor\":\"#E5ECF6\",\"angularaxis\":{\"gridcolor\":\"white\",\"linecolor\":\"white\",\"ticks\":\"\"},\"radialaxis\":{\"gridcolor\":\"white\",\"linecolor\":\"white\",\"ticks\":\"\"}},\"ternary\":{\"bgcolor\":\"#E5ECF6\",\"aaxis\":{\"gridcolor\":\"white\",\"linecolor\":\"white\",\"ticks\":\"\"},\"baxis\":{\"gridcolor\":\"white\",\"linecolor\":\"white\",\"ticks\":\"\"},\"caxis\":{\"gridcolor\":\"white\",\"linecolor\":\"white\",\"ticks\":\"\"}},\"coloraxis\":{\"colorbar\":{\"outlinewidth\":0,\"ticks\":\"\"}},\"colorscale\":{\"sequential\":[[0.0,\"#0d0887\"],[0.1111111111111111,\"#46039f\"],[0.2222222222222222,\"#7201a8\"],[0.3333333333333333,\"#9c179e\"],[0.4444444444444444,\"#bd3786\"],[0.5555555555555556,\"#d8576b\"],[0.6666666666666666,\"#ed7953\"],[0.7777777777777778,\"#fb9f3a\"],[0.8888888888888888,\"#fdca26\"],[1.0,\"#f0f921\"]],\"sequentialminus\":[[0.0,\"#0d0887\"],[0.1111111111111111,\"#46039f\"],[0.2222222222222222,\"#7201a8\"],[0.3333333333333333,\"#9c179e\"],[0.4444444444444444,\"#bd3786\"],[0.5555555555555556,\"#d8576b\"],[0.6666666666666666,\"#ed7953\"],[0.7777777777777778,\"#fb9f3a\"],[0.8888888888888888,\"#fdca26\"],[1.0,\"#f0f921\"]],\"diverging\":[[0,\"#8e0152\"],[0.1,\"#c51b7d\"],[0.2,\"#de77ae\"],[0.3,\"#f1b6da\"],[0.4,\"#fde0ef\"],[0.5,\"#f7f7f7\"],[0.6,\"#e6f5d0\"],[0.7,\"#b8e186\"],[0.8,\"#7fbc41\"],[0.9,\"#4d9221\"],[1,\"#276419\"]]},\"xaxis\":{\"gridcolor\":\"white\",\"linecolor\":\"white\",\"ticks\":\"\",\"title\":{\"standoff\":15},\"zerolinecolor\":\"white\",\"automargin\":true,\"zerolinewidth\":2},\"yaxis\":{\"gridcolor\":\"white\",\"linecolor\":\"white\",\"ticks\":\"\",\"title\":{\"standoff\":15},\"zerolinecolor\":\"white\",\"automargin\":true,\"zerolinewidth\":2},\"scene\":{\"xaxis\":{\"backgroundcolor\":\"#E5ECF6\",\"gridcolor\":\"white\",\"linecolor\":\"white\",\"showbackground\":true,\"ticks\":\"\",\"zerolinecolor\":\"white\",\"gridwidth\":2},\"yaxis\":{\"backgroundcolor\":\"#E5ECF6\",\"gridcolor\":\"white\",\"linecolor\":\"white\",\"showbackground\":true,\"ticks\":\"\",\"zerolinecolor\":\"white\",\"gridwidth\":2},\"zaxis\":{\"backgroundcolor\":\"#E5ECF6\",\"gridcolor\":\"white\",\"linecolor\":\"white\",\"showbackground\":true,\"ticks\":\"\",\"zerolinecolor\":\"white\",\"gridwidth\":2}},\"shapedefaults\":{\"line\":{\"color\":\"#2a3f5f\"}},\"annotationdefaults\":{\"arrowcolor\":\"#2a3f5f\",\"arrowhead\":0,\"arrowwidth\":1},\"geo\":{\"bgcolor\":\"white\",\"landcolor\":\"#E5ECF6\",\"subunitcolor\":\"white\",\"showland\":true,\"showlakes\":true,\"lakecolor\":\"white\"},\"title\":{\"x\":0.05},\"mapbox\":{\"style\":\"light\"}}},\"title\":{\"text\":\"Standard Deviation .Vs Mean Intensity Value\"},\"xaxis\":{\"title\":{\"text\":\"Mean Intensity Value\"}},\"yaxis\":{\"title\":{\"text\":\"Standard Deviation\"}}},                        {\"responsive\": true}                    ).then(function(){\n",
       "                            \n",
       "var gd = document.getElementById('f8164677-9db3-458e-8b24-8524cf96ed77');\n",
       "var x = new MutationObserver(function (mutations, observer) {{\n",
       "        var display = window.getComputedStyle(gd).display;\n",
       "        if (!display || display === 'none') {{\n",
       "            console.log([gd, 'removed!']);\n",
       "            Plotly.purge(gd);\n",
       "            observer.disconnect();\n",
       "        }}\n",
       "}});\n",
       "\n",
       "// Listen for the removal of the full notebook cells\n",
       "var notebookContainer = gd.closest('#notebook-container');\n",
       "if (notebookContainer) {{\n",
       "    x.observe(notebookContainer, {childList: true});\n",
       "}}\n",
       "\n",
       "// Listen for the clearing of the current output cell\n",
       "var outputEl = gd.closest('.output');\n",
       "if (outputEl) {{\n",
       "    x.observe(outputEl, {childList: true});\n",
       "}}\n",
       "\n",
       "                        })                };                });            </script>        </div>"
      ]
     },
     "metadata": {},
     "output_type": "display_data"
    }
   ],
   "source": [
    "test1 = df_2.loc[df_2[\"Name\"] == \"Andreas\"]\n",
    "test2 = df_2.loc[df_2[\"Name\"] == \"Marie\"]\n",
    "test3 = df_2.loc[df_2[\"Name\"] == \"Mikael\"]\n",
    "test4 = df_2.loc[df_2[\"Name\"] == \"Stefan\"]\n",
    "test5 = df_2.loc[df_2[\"Name\"] == \"Ulf\"]\n",
    "\n",
    "test6 = df_1.loc[df_1[\"Name\"] == \"Andreas\"]\n",
    "test7 = df_1.loc[df_1[\"Name\"] == \"Marie\"]\n",
    "test8 = df_1.loc[df_1[\"Name\"] == \"Mikael\"]\n",
    "test9 = df_1.loc[df_1[\"Name\"] == \"Stefan\"]\n",
    "test10 = df_1.loc[df_1[\"Name\"] == \"Ulf\"]\n",
    "\n",
    "\n",
    "lst1 = [test1, test2, test3, test4, test5]\n",
    "lst2 = [test6, test7, test8, test9, test10]\n",
    "\n",
    "\n",
    "fig = go.Figure()\n",
    "fig.update_layout(title_text=\"Standard Deviation .Vs Mean Intensity Value\")\n",
    "fig.update_xaxes(title_text=\"Mean Intensity Value\")\n",
    "fig.update_yaxes(title_text=\"Standard Deviation\")\n",
    "colors = [\"red\", \"green\", \"blue\", \"orange\", \"black\"]\n",
    "\n",
    "for i in range(5):\n",
    "    fig.add_trace(go.Scatter(x=lst1[i][\"Mean\"], y=lst1[i][\"Std\"], mode=\"markers\", name=PEOPLE[i], line_color=colors[i],marker_symbol=\"triangle-up\"))\n",
    "    fig.add_trace(go.Scatter(x=lst2[i][\"Mean\"], y=lst2[i][\"Std\"], mode=\"markers\", name=PEOPLE[i]+\" mean\",line_color=colors[i], marker_symbol=\"x\"))######\n",
    "fig.show()"
   ]
  }
 ],
 "metadata": {
  "kernelspec": {
   "display_name": "Python 3 (ipykernel)",
   "language": "python",
   "name": "python3"
  },
  "language_info": {
   "codemirror_mode": {
    "name": "ipython",
    "version": 3
   },
   "file_extension": ".py",
   "mimetype": "text/x-python",
   "name": "python",
   "nbconvert_exporter": "python",
   "pygments_lexer": "ipython3",
   "version": "3.8.10"
  }
 },
 "nbformat": 4,
 "nbformat_minor": 5
}
